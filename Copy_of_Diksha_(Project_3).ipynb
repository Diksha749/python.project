{
  "nbformat": 4,
  "nbformat_minor": 0,
  "metadata": {
    "colab": {
      "provenance": []
    },
    "kernelspec": {
      "name": "python3",
      "display_name": "Python 3"
    },
    "language_info": {
      "name": "python"
    }
  },
  "cells": [
    {
      "cell_type": "markdown",
      "source": [
        "Q. Write a Python function that takes a list of numbers as input and returns the sum of all even numbers in the list.\n",
        "\n",
        "Ans. Here's a Python function that calculates the sum of all even numbers in a given list:"
      ],
      "metadata": {
        "id": "_gO_IrLcbrGQ"
      }
    },
    {
      "cell_type": "code",
      "execution_count": null,
      "metadata": {
        "id": "tz9B68_Rbnne"
      },
      "outputs": [],
      "source": [
        "def sum_even_numbers(numbers):\n",
        "  \"\"\"Calculates the sum of even numbers in a list.\n",
        "\n",
        "  Args:\n",
        "    numbers: A list of numbers.\n",
        "\n",
        "  Returns:\n",
        "    The sum of even numbers in the list.\n",
        "  \"\"\"\n",
        "\n",
        "  even_sum = 0\n",
        "  for num in numbers:\n",
        "    if num % 2 == 0:\n",
        "      even_sum += num\n",
        "  return even_sum\n",
        "\n",
        "# Example usage:\n",
        "numbers = [1, 2, 3, 4, 5, 6, 7, 8, 9, 10]\n",
        "result = sum_even_numbers(numbers)\n",
        "print(\"Sum of even numbers:\", result)\n",
        "\n"
      ]
    },
    {
      "cell_type": "markdown",
      "source": [
        "This function takes a list of numbers as input and iterates over each element. If the element is even (i.e., its remainder when divided by 2 is 0), it adds the element to the even_sum variable. Finally, the function returns the even_sum.\n"
      ],
      "metadata": {
        "id": "qs9I-KQfbosq"
      }
    },
    {
      "cell_type": "markdown",
      "source": [
        "Q. Create a Python function that accepts a string and returns the reverse of that string.\n",
        "\n",
        "Ans. Here's a Python function that takes a string as input and returns the reverse of that string:"
      ],
      "metadata": {
        "id": "_wm4rIEfdL5r"
      }
    },
    {
      "cell_type": "code",
      "source": [
        "def reverse_string(string):\n",
        "  \"\"\"Reverses a given string.\n",
        "\n",
        "  Args:\n",
        "    string: The string to be reversed.\n",
        "\n",
        "  Returns:\n",
        "    The reversed string.\n",
        "  \"\"\"\n",
        "\n",
        "  reversed_string = \"\"\n",
        "  for char in string:\n",
        "    reversed_string = char + reversed_string\n",
        "  return reversed_string\n",
        "\n",
        "# Example usage:\n",
        "string = \"hello, world!\"\n",
        "reversed_string = reverse_string(string)\n",
        "print(\"Reversed string:\",\n",
        " reversed_string)"
      ],
      "metadata": {
        "id": "aDiLIj3Sd6XH"
      },
      "execution_count": null,
      "outputs": []
    },
    {
      "cell_type": "markdown",
      "source": [
        "This function works by iterating through each character in the input string and adding it to the beginning of the reversed_string variable. This effectively reverses the order of the characters."
      ],
      "metadata": {
        "id": "1GaGV8zQeUoT"
      }
    },
    {
      "cell_type": "markdown",
      "source": [
        "Q. Implement a Python function that takes a list of integers and returns a new list containing the squares of each number.\n",
        "\n",
        "Ans. Here's a Python function that takes a list of integers and returns a new list containing the squares of each number:"
      ],
      "metadata": {
        "id": "iOeTjsaceWMg"
      }
    },
    {
      "cell_type": "code",
      "source": [
        "def square_elements(numbers):\n",
        "  \"\"\"Squares each element in a list.\n",
        "\n",
        "  Args:\n",
        "    numbers: A list of integers.\n",
        "\n",
        "  Returns:\n",
        "    A new list containing the squares of the elements in the input list.\n",
        "  \"\"\"\n",
        "\n",
        "  squared_numbers = []\n",
        "  for num in numbers:\n",
        "    squared_numbers.append(num ** 2)\n",
        "  return squared_numbers\n",
        "\n",
        "# Example usage:\n",
        "numbers = [1, 2, 3, 4, 5]\n",
        "squared_numbers = square_elements(numbers)\n",
        "print(\"Squared numbers:\", squared_numbers)"
      ],
      "metadata": {
        "id": "LxjkZ4VrfuuF"
      },
      "execution_count": null,
      "outputs": []
    },
    {
      "cell_type": "markdown",
      "source": [
        "This function works by iterating over each element in the input list and appending its square to a new list. Finally, the function returns the new list containing the squared elements."
      ],
      "metadata": {
        "id": "uan2fz5Jf4R2"
      }
    },
    {
      "cell_type": "markdown",
      "source": [
        "Q. Write a Python function that checks if a given number is prime not from 1 to 200.\n",
        "\n",
        "Ans. Here's a Python function that checks if a given number is prime:"
      ],
      "metadata": {
        "id": "MfU3SAUKf6Nm"
      }
    },
    {
      "cell_type": "code",
      "source": [
        "def is_prime(num):\n",
        "  \"\"\"Checks if a given number is prime.\n",
        "\n",
        "  Args:\n",
        "    num: The number to check.\n",
        "\n",
        "  Returns:\n",
        "    True if the number is prime, False otherwise.\n",
        "  \"\"\"\n",
        "\n",
        "  if num <= 1:\n",
        "    return False\n",
        "  if num <= 3:\n",
        "    return True\n",
        "  if num % 2 == 0 or num % 3 == 0:\n",
        "    return False\n",
        "  i = 5\n",
        "  while i * i <= num:\n",
        "    if num % i == 0 or num % (i + 2) == 0:\n",
        "      return False\n",
        "    i += 6\n",
        "  return True\n",
        "\n",
        "# Example usage:\n",
        "number = int(input(\"Enter a number: \"))\n",
        "if is_prime(number):\n",
        "  print(number, \"is a prime number.\")\n",
        "else:\n",
        "  print(number, \"is not a prime number.\")\n"
      ],
      "metadata": {
        "id": "Uj5RDps7hSeQ"
      },
      "execution_count": null,
      "outputs": []
    },
    {
      "cell_type": "markdown",
      "source": [
        "This function first handles the special cases of 1, 2, and 3. Then, it iterates through all potential divisors from 5 up to the square root of the number, checking if the number is divisible by any of them. If it's not divisible by any of these numbers, it's prime."
      ],
      "metadata": {
        "id": "dup4YzcLhaeQ"
      }
    },
    {
      "cell_type": "markdown",
      "source": [
        "Q. Create an iterator class in Python that generates the Fibonacci sequence upto specified number of terms.\n",
        "\n",
        "Ans. Here's a Python iterator class that generates the Fibonacci sequence up to a specified number of terms:"
      ],
      "metadata": {
        "id": "G01HUSJxhgMX"
      }
    },
    {
      "cell_type": "markdown",
      "source": [
        "class FibonacciIterator:\n",
        "  def __init__(self, terms):\n",
        "    self.terms = terms\n",
        "    self.a, self.b = 0, 1\n",
        "    self.count = 0\n",
        "\n",
        "  def __iter__(self):\n",
        "    return self\n",
        "\n",
        "  def __next__(self):\n",
        "    if self.count >= self.terms:\n",
        "      raise StopIteration\n",
        "    if self.count == 0:\n",
        "      self.count += 1\n",
        "      return self.a\n",
        "    elif self.count == 1:\n",
        "      self.count += 1\n",
        "      return self.b\n",
        "    else:\n",
        "      self.count += 1\n",
        "      self.a, self.b = self.b, self.a + self.b\n",
        "      return self.b\n",
        "\n",
        "# Example usage:\n",
        "terms = 10\n",
        "fib_iterator = FibonacciIterator(terms)\n",
        "\n",
        "for num in fib_iterator:\n",
        "  print(num)"
      ],
      "metadata": {
        "id": "V28VN6SwmQ2q"
      }
    },
    {
      "cell_type": "markdown",
      "source": [
        "This class defines a FibonacciIterator that implements the iterator protocol. The __init__ method initializes the class with the desired number of terms, the first two Fibonacci numbers, and a counter. The __iter__ method returns the iterator itself, and the __next__ method generates the next Fibonacci number until the specified number of terms is reached.\n",
        "\n",
        "To use this iterator, you can create an instance of the FibonacciIterator class and iterate over it using a for loop."
      ],
      "metadata": {
        "id": "_mHMJI8bmW03"
      }
    },
    {
      "cell_type": "markdown",
      "source": [
        "Q. Write a generator function in Python that yields the powers of 2 up to a given exponent.\n",
        "\n",
        "Ans. Here's a Python generator function that yields the powers of 2 up to a given exponent:"
      ],
      "metadata": {
        "id": "gJ_pgChjmdm0"
      }
    },
    {
      "cell_type": "code",
      "source": [
        "def powers_of_two(exponent):\n",
        "  \"\"\"Generates powers of 2 up to a given exponent.\n",
        "\n",
        "  Args:\n",
        "    exponent: The maximum exponent.\n",
        "\n",
        "  Yields:\n",
        "    The powers of 2 from 2^0 to 2^exponent.\n",
        "  \"\"\"\n",
        "\n",
        "  for i in range(exponent + 1):\n",
        "    yield 2 ** i\n",
        "\n",
        "# Example usage:\n",
        "exponent = 5\n",
        "powers_gen = powers_of_two(exponent)\n",
        "\n",
        "for power in powers_gen:\n",
        "  print(power)"
      ],
      "metadata": {
        "id": "n0UvSOMen0e8"
      },
      "execution_count": null,
      "outputs": []
    },
    {
      "cell_type": "markdown",
      "source": [
        "This function works by iterating over the range from 0 to the given exponent. For each iteration, it yields the value of 2 raised to the current power. This allows you to iterate over the powers of 2 without storing them all in memory at once."
      ],
      "metadata": {
        "id": "UEjEKXnRw2w2"
      }
    },
    {
      "cell_type": "markdown",
      "source": [
        "Q. Implement a generator function that reads a file line by line and yields each line as a string.\n",
        "\n",
        "Ans. Implement a generator function that reads a file line by line and yields each line as a string."
      ],
      "metadata": {
        "id": "ycNSTj6-xCUc"
      }
    },
    {
      "cell_type": "code",
      "source": [
        "def read_file_lines(filename):\n",
        "  \"\"\"Reads a file line by line and yields each line as a string.\n",
        "\n",
        "  Args:\n",
        "    filename: The name of the file to read.\n",
        "\n",
        "  Yields:\n",
        "    Each line in the file as a string.\n",
        "  \"\"\"\n",
        "\n",
        "  with open(filename, 'r') as file:\n",
        "    for line in file:\n",
        "      yield line.strip()\n",
        "\n",
        "# Example usage:\n",
        "filename = \"data.txt\"\n",
        "file_lines_gen = read_file_lines(filename)\n",
        "\n",
        "for line in file_lines_gen:\n",
        "  print(line)\n"
      ],
      "metadata": {
        "id": "lbnMAdOu0cvq"
      },
      "execution_count": null,
      "outputs": []
    },
    {
      "cell_type": "markdown",
      "source": [
        "This function works by opening the specified file in read mode ('r'). It then iterates over each line in the file using a for loop. Inside the loop, it yields the current line after stripping any trailing whitespace using the strip() method. This allows you to process each line of the file as it's read, without loading the entire file into memory at once."
      ],
      "metadata": {
        "id": "SpdZAPWa0kQw"
      }
    },
    {
      "cell_type": "markdown",
      "source": [
        "Q. Use a lambda function in Python to sort a list of tuples based on the second element of each tuple.\n",
        "\n",
        "Ans. Here's a Python code snippet that demonstrates how to use a lambda function to sort a list of tuples based on the second element of each tuple:"
      ],
      "metadata": {
        "id": "H-Q4cRKc0oWY"
      }
    },
    {
      "cell_type": "code",
      "source": [
        " #Create a list of tuples\n",
        "my_tuples = [(\"apple\", 3), (\"banana\", 2), (\"cherry\", 1), (\"date\", 4)]\n",
        "\n",
        "# Sort the list based on the second element of each tuple using a lambda function\n",
        "my_tuples.sort(key=lambda x: x[1])\n",
        "\n",
        "# Print the sorted list\n",
        "print(my_tuples)"
      ],
      "metadata": {
        "id": "BJCFw7F01Y4Y"
      },
      "execution_count": null,
      "outputs": []
    },
    {
      "cell_type": "markdown",
      "source": [
        "Explanation:\n",
        "\n",
        "1. Create a list of tuples: The my_tuples list contains tuples, each with a string and an integer.\n",
        "2. Sort the list: The sort() method is used to sort the list in-place.\n",
        "3. Lambda function: The key=lambda x: x[1] argument specifies that the sorting should be based on the second element of each tuple (index 1).\n",
        "4. Print the sorted list: The sorted list is printed to the console.\n",
        "This code will output the following:"
      ],
      "metadata": {
        "id": "9EH6FzpV1zz5"
      }
    },
    {
      "cell_type": "code",
      "source": [
        "[('cherry', 1), ('banana', 2), ('apple', 3), ('date', 4)]\n"
      ],
      "metadata": {
        "id": "Y8ZoLC5b7Pwz"
      },
      "execution_count": null,
      "outputs": []
    },
    {
      "cell_type": "markdown",
      "source": [
        "The tuples are now sorted in ascending order based on their second element."
      ],
      "metadata": {
        "id": "Ml0NXQxV7cT8"
      }
    },
    {
      "cell_type": "markdown",
      "source": [
        "Q. Write a Python program that uses `map()` to convert a list of temperatures from Celcius to Fahrenheit.\n",
        "\n",
        "Ans. Here's a Python program that uses the map() function to convert a list of temperatures from Celsius to Fahrenheit:"
      ],
      "metadata": {
        "id": "N-9Tg6tB7eaX"
      }
    },
    {
      "cell_type": "code",
      "source": [
        "\n",
        "def celsius_to_fahrenheit(celsius):\n",
        "    \"\"\"Converts Celsius to Fahrenheit.\n",
        "\n",
        "    Args:\n",
        "        celsius: The temperature in Celsius.\n",
        "\n",
        "    Returns:\n",
        "        The temperature in Fahrenheit.\n",
        "    \"\"\"\n",
        "\n",
        "    return (celsius * 9/5) + 32\n",
        "\n",
        "# List of temperatures in Celsius\n",
        "celsius_temps = [25, 30, 35, 40]\n",
        "\n",
        "# Convert Celsius to Fahrenheit using map()\n",
        "fahrenheit_temps = list(map(celsius_to_fahrenheit, celsius_temps))\n",
        "\n",
        "# Print the Fahrenheit temperatures\n",
        "print(fahrenheit_temps)"
      ],
      "metadata": {
        "id": "O6hjl6oLKM27"
      },
      "execution_count": null,
      "outputs": []
    },
    {
      "cell_type": "markdown",
      "source": [
        "Q. Create a Python program that uses `filter()` to remove all the vowels from a given string.\n",
        "\n",
        "Ans. Here's a Python program that uses filter() to remove all the vowels from a given string:"
      ],
      "metadata": {
        "id": "ocsj3S5_KcoB"
      }
    },
    {
      "cell_type": "code",
      "source": [
        "def remove_vowels(string):\n",
        "  \"\"\"Removes all vowels from a given string.\n",
        "\n",
        "  Args:\n",
        "    string: The input string.\n",
        "\n",
        "  Returns:\n",
        "    The string with vowels removed.\n",
        "  \"\"\"\n",
        "\n",
        "  vowels\n",
        " = \"aeiouAEIOU\"\n",
        "  return \"\".join(filter(lambda char: char not in vowels, string))\n",
        "\n",
        "# Example usage:\n",
        "string = \"Hello, World!\"\n",
        "result = remove_vowels(string)\n",
        "print(\"String without vowels:\", result)"
      ],
      "metadata": {
        "id": "utKTv65iLcgM"
      },
      "execution_count": null,
      "outputs": []
    },
    {
      "cell_type": "markdown",
      "source": [
        "Explanation:\n",
        "\n",
        "1. Define the remove_vowels function: This function takes a string as input and returns the string with vowels removed.\n",
        "2. Define the vowels string: This string contains all the vowels (both uppercase and lowercase).\n",
        "3. Use filter(): The filter() function takes a function and an iterable as input. In this case, the lambda function lambda char: char not in vowels is used to filter out characters that are vowels. The filter() function returns an iterator containing the characters that are not vowels.\n",
        "4. Join the filtered characters: The \"\".join() method is used to join the filtered characters into a single string and return the result.\n",
        "5. This program effectively removes all vowels from the input string using the filter() function and a lambda expression."
      ],
      "metadata": {
        "id": "GOBpXBaSLhvP"
      }
    },
    {
      "cell_type": "markdown",
      "source": [
        "Q. Imagine an accounting routine used in a book shop. It works on a list with sublists, which look like this:\n",
        "\n",
        "Order no.       Book Title and author        Quantity   Price Per Item\n",
        "34587         Learning Python, Mark Lutz        4            40.95\n",
        "98762         Programmimg Python, Mark Lutz     5            56.80\n",
        "77226         Head First Python, Paul Barry     3            32.95\n",
        "88112      Einfuhrung in Python3,Bernd klein    3            24.99\n",
        "\n",
        "\n",
        "Write a Python programs, which returns a list with 2-tuples. Each tuple consists of the order numbers and the product of the price per item and the quantity. The Product should be increased by 10,- euro if the value of the order is the smaller than 100,00 euro.\n",
        "\n",
        "Write a Python program using Lambda and Map.\n",
        "\n",
        "Ans. def calculate_order_value(order):\n",
        "  \"\"\"Calculates the order value and increases it by 10 if it's less than 100.\n",
        "\n",
        "  Args:\n",
        "    order: A list containing order number, book title, quantity, and price.\n",
        "\n",
        "  Returns:\n",
        "    A tuple containing the order number and the calculated order value.\n",
        "  \"\"\"\n",
        "\n",
        "  order_number = order[0]\n",
        "  quantity = order[2]\n",
        "  price_per_item = order[3]\n",
        "  value = quantity * price_per_item\n",
        "  return order_number, value + 10 if value < 100 else value\n",
        "\n",
        "# Sample data\n",
        "orders = [\n",
        "    [34587, \"Learning Python, Mark Lutz\", 4, 40.95],\n",
        "    [98762, \"Programming Python, Mark Lutz\", 5, 56.80],\n",
        "    [77226, \"Head First Python, Paul Barry\", 3, 32.95],\n",
        "    [88112, \"Einfuhrung\n",
        " in Python3, Bernd Klein\",\n",
        " 3, 24.99]\n",
        "]\n",
        "\n",
        "# Calculate order values using map and lambda\n",
        "result = list(map(calculate_order_value, orders))\n",
        "\n",
        "print(result)\n",
        "\n",
        "Explanation:\n",
        "\n",
        "1. calculate_order_value function: This function takes an order as input and calculates its value. It checks if the value is less than 100 and increases it by 10 if necessary.\n",
        "2. Sample data: A list of orders is provided as an example.\n",
        "3. map function: The map function applies the calculate_order_value function to each order in the list.\n",
        "4. Result: The resulting list contains tuples of order numbers and their calculated values.\n",
        "\n",
        "\n",
        "This program effectively calculates the order values and applies the specified condition using lambda and map, providing a concise and efficient solution."
      ],
      "metadata": {
        "id": "Lqc6Hx60NdAq"
      }
    }
  ]
}